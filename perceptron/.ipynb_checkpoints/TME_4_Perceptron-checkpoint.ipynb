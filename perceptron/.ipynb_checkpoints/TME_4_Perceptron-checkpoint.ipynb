{
 "cells": [
  {
   "cell_type": "markdown",
   "metadata": {},
   "source": [
    "# TME 4: Perceptron.\n",
    "\n",
    "## HingeLoss\n",
    "\n",
    "$ hinge(x) = max(0,-Y < \\textbf{X,W}>) $\n",
    "\n",
    "$ X \\in \\mathbb{R}^{nxm} $\n",
    "$ Y \\in \\mathbb{R}^{nx1} $\n",
    "$ W \\in \\mathbb{R}^{mx1} $"
   ]
  },
  {
   "cell_type": "code",
   "execution_count": 1,
   "metadata": {
    "collapsed": false
   },
   "outputs": [],
   "source": [
    "import arftools\n",
    "import numpy as np\n",
    "import matplotlib.pyplot as plt\n",
    "import arftools\n",
    "\n"
   ]
  },
  {
   "cell_type": "code",
   "execution_count": 17,
   "metadata": {
    "collapsed": false
   },
   "outputs": [],
   "source": [
    "def hinge_loss(X,Y,W):\n",
    "    CW = -Y*X.dot(W.T)\n",
    "    Zeros = np.zeros(Y.shape)\n",
    "    return np.maximum(Zeros,CW)\n",
    "    \n",
    "def hinge_loss_grad(X,Y,W):\n",
    "    indicatrice = np.sign(hinge_loss(X,Y,W))\n",
    "    NablaCW = indicatrice*-Y*X\n",
    "    return NablaCW\n",
    "\n",
    "class Perceptron(object):\n",
    "    def __init__(self,loss,loss_g,max_iter=100,eps=0.1):\n",
    "        self.max_iter, self.eps = max_iter,eps\n",
    "        self.w = None\n",
    "        self.w_histo,self.loss_histo = [],[]\n",
    "        self.loss = loss\n",
    "        self.loss_g = loss_g\n",
    "    \n",
    "        \n",
    "    def fit(self,datax,datay):\n",
    "        datay = datay.reshape(-1,1)\n",
    "        N = len(datay) # Number of data points\n",
    "        datax = datax.reshape(N,-1)\n",
    "        D = datax.shape[1] # dimension of data points\n",
    "        self.w = np.random.random((1,D))\n",
    "        self.w_histo = []\n",
    "        self.loss_histo = []\n",
    "        for i in range(self.max_iter):\n",
    "            self.w_histo += [self.w]\n",
    "            CW = self.loss(datax,datay,self.w)\n",
    "            self.loss_histo += [np.sum(CW)]            \n",
    "            CW_grad = self.loss_g(datax,datay,self.w)\n",
    "            #print CW_grad\n",
    "            collective_grad = np.sum(CW_grad,axis=0) # par ligne\n",
    "            #print collective_grad\n",
    "            #print  self.w\n",
    "            self.w -= collective_grad*self.eps\n",
    "            \n",
    "    def fit_with_bias(self,datax,datay):\n",
    "        datay = datay.reshape(-1,1)\n",
    "        N = len(datay) # Number of data points\n",
    "        homogeneus = np.ones((N,1))\n",
    "        datax = datax.reshape(N,-1)\n",
    "        datax = np.hstack((datax,homogeneus))\n",
    "        D = datax.shape[1] # dimension of data points\n",
    "        self.w = np.random.random((1,D))\n",
    "        self.w_histo = []\n",
    "        self.loss_histo = []\n",
    "        for i in range(self.max_iter):\n",
    "            self.w_histo += [self.w]\n",
    "            CW = self.loss(datax,datay,self.w)\n",
    "            self.loss_histo += [np.sum(CW)]            \n",
    "            CW_grad = self.loss_g(datax,datay,self.w)\n",
    "            #print CW_grad\n",
    "            collective_grad = np.sum(CW_grad,axis=0) # par ligne\n",
    "            self.w -= collective_grad*self.eps\n",
    "            \n",
    "    def predict(self,datax):\n",
    "        return np.sign(datax.dot(self.w.T))\n",
    "    \n",
    "    def predict_proba(self,datax):\n",
    "        return datax.dot(self.w.T)\n",
    "    \n",
    "    def predict_with_bias(self,datax):\n",
    "        N = datax.shape[0] # Number of data points\n",
    "        homogeneus = np.ones((N,1))\n",
    "        datax = datax.reshape(N,-1)\n",
    "        datax = np.hstack((datax,homogeneus))\n",
    "        return np.sign(datax.dot(self.w.T))\n",
    "    \n",
    "    def score(self,datax,datay):\n",
    "        return np.mean(self.predict(datax).T[0]==datay)\n",
    "    \n",
    "    def score_with_bias(self,datax,datay):\n",
    "        N = datax.shape[0] # Number of data points\n",
    "        homogeneus = np.ones((N,1))\n",
    "        datax = datax.reshape(N,-1)\n",
    "        datax = np.hstack((datax,homogeneus))\n",
    "        return np.mean(self.predict(datax).T[0]==datay)\n"
   ]
  },
  {
   "cell_type": "code",
   "execution_count": 18,
   "metadata": {
    "collapsed": false
   },
   "outputs": [
    {
     "data": {
      "image/png": "[encoded data removed]",
      "text/plain": [
       "<matplotlib.figure.Figure at 0x7fdef29417d0>"
      ]
     },
     "metadata": {},
     "output_type": "display_data"
    },
    {
     "data": {
      "image/png": "[encoded data removed]",
      "text/plain": [
       "<matplotlib.figure.Figure at 0x7fdef1652110>"
      ]
     },
     "metadata": {},
     "output_type": "display_data"
    }
   ],
   "source": [
    "datax,datay = arftools.gen_arti()\n",
    "\n",
    "my_perceptron = Perceptron(hinge_loss,hinge_loss_grad)\n",
    "\n",
    "my_perceptron.fit(datax,datay)\n",
    "arftools.plot_frontiere(datax,my_perceptron.predict)\n",
    "arftools.plot_data(datax,datay)\n",
    "plt.show()\n",
    "\n",
    "\n",
    "figure = plt.figure()\n",
    "datax = datax+2\n",
    "my_perceptron.fit_with_bias(datax,datay)\n",
    "arftools.fig_plot_frontiere(plt,datax,my_perceptron.predict_with_bias)\n",
    "arftools.fig_plot_data(plt,datax,datay)\n",
    "plt.grid(True)\n",
    "plt.show()\n"
   ]
  },
  {
   "cell_type": "code",
   "execution_count": 103,
   "metadata": {
    "collapsed": false
   },
   "outputs": [],
   "source": [
    "def gaussian_function(mu,sigma,K):\n",
    "    def func(x):\n",
    "        return K*np.exp(-(np.dot((mu-x).T,(mu-x)))/sigma)\n",
    "    return func\n",
    "\n",
    "def projection_gaussien(datax,sigma,K):\n",
    "    D = datax.shape[0]\n",
    "    projected_data = np.zeros((D,D))\n",
    "    for i in range(D):\n",
    "        projected_data[i,:] = np.array(map(gaussian_function(datax[i,:],sigma,K),datax))\n",
    "    return projected_data\n",
    "\n",
    "def projection_gaussien_grid(grid_space,datax,sigma,K):\n",
    "    N = grid_space.shape[0]\n",
    "    D = datax.shape[0]\n",
    "    projected_data = np.zeros((N,D))\n",
    "    for i in range(N):\n",
    "        projected_data[i,:] = np.array(map(gaussian_function(grid_space[i,:],sigma,K),datax))\n",
    "    return projected_data\n",
    "\n",
    "datax,datay = arftools.gen_arti()\n",
    "sigma = 1\n",
    "K = 0.3\n",
    "projected_data = projection_gaussien(datax,sigma,K)\n",
    "grid_space,xx,yy = arftools.make_grid(datax)\n",
    "projected_grid_space = projection_gaussien_grid(grid_space,datax,sigma,K)\n"
   ]
  },
  {
   "cell_type": "code",
   "execution_count": 104,
   "metadata": {
    "collapsed": false
   },
   "outputs": [
    {
     "name": "stdout",
     "output_type": "stream",
     "text": [
      "1.0\n",
      "400\n",
      "400\n",
      "400\n",
      "(400L, 1L)\n"
     ]
    },
    {
     "data": {
      "image/png": "[encoded data removed]",
      "text/plain": [
       "<matplotlib.figure.Figure at 0x78851d0>"
      ]
     },
     "metadata": {},
     "output_type": "display_data"
    }
   ],
   "source": [
    "my_perceptron.fit(projected_data,datay)\n",
    "print my_perceptron.score(projected_data,datay)\n",
    "projected_grid_space_proba = my_perceptron.predict_proba(projected_grid_space)\n",
    "\n",
    "print len(grid_space[:,0])\n",
    "print len(grid_space[:,1])\n",
    "print len(projected_grid_space_proba[:,0])\n",
    "print projected_grid_space_proba.shape\n",
    "plt.contourf(xx, yy, projected_grid_space_proba.reshape(yy.shape))\n",
    "plt.show()"
   ]
  },
  {
   "cell_type": "code",
   "execution_count": 41,
   "metadata": {
    "collapsed": false
   },
   "outputs": [
    {
     "ename": "SyntaxError",
     "evalue": "invalid syntax (<ipython-input-41-459dd6776870>, line 23)",
     "output_type": "error",
     "traceback": [
      "\u001b[0;36m  File \u001b[0;32m\"<ipython-input-41-459dd6776870>\"\u001b[0;36m, line \u001b[0;32m23\u001b[0m\n\u001b[0;31m    [print score for score in scores ]\u001b[0m\n\u001b[0m         ^\u001b[0m\n\u001b[0;31mSyntaxError\u001b[0m\u001b[0;31m:\u001b[0m invalid syntax\n"
     ]
    }
   ],
   "source": [
    "#1vsmany\n",
    "\n",
    "fn_usps_train = 'USPS_train.txt'\n",
    "fn_usps_test = 'USPS_test.txt'\n",
    "\n",
    "trainx,trainy = load_usps(fn_usps_train)\n",
    "testx,testy = load_usps(fn_usps_test)\n",
    "\n",
    "my_perceptron = Perceptron(hinge_loss,hinge_loss_grad)\n",
    "classes = 10\n",
    "scores = np.zeros((classes,classes))\n",
    "for i in range(classes):\n",
    "    for j in range(classes):\n",
    "        datax = None\n",
    "        datay = None\n",
    "        if not i==j:\n",
    "            ch0x,ch0y = char(i,trainx,trainy)\n",
    "            ch1x,ch1y = char(j,trainx,trainy) \n",
    "            datax = np.vstack((ch0x,ch1x))\n",
    "            datay = np.hstack((np.zeros(ch1y.shape)-1,np.zeros(ch0y.shape)+1))\n",
    "    \n",
    "            my_perceptron.fit_with_bias(datax,datay)\n",
    "            scores[i,j] = my_perceptron.score_with_bias(datax,datay)\n",
    "print scores\n"
   ]
  },
  {
   "cell_type": "code",
   "execution_count": 120,
   "metadata": {
    "collapsed": false
   },
   "outputs": [
    {
     "name": "stdout",
     "output_type": "stream",
     "text": [
      "[ 1.  1.]\n",
      "[1 1]\n",
      "-1\n"
     ]
    }
   ],
   "source": [
    "def sigmoide(x):\n",
    "    return 1/(1-np.exp(-x))\n",
    "\n",
    "def soille(x,s): \n",
    "    return 1 if (x>s) else -1\n",
    "\n",
    "w_0 = np.zeros((2,2)) +1\n",
    "w_1 = np.array([1,-1])\n",
    "s1 = 0.5\n",
    "s2 = 1.5\n",
    "s3 = 1\n",
    "\n",
    "x_0 =  np.ones(2)\n",
    "x_1 = w_0.dot(x_0.T)\n",
    "x_1 = np.array([ soille(x_1[0],s1), soille(x_1[1],s2) ])\n",
    "print x_1\n",
    "\n",
    "x_2 = soille(w_1.dot(x_1.T),s3)\n",
    "\n",
    "print x_2\n"
   ]
  }
 ],
 "metadata": {
  "anaconda-cloud": {},
  "kernelspec": {
   "display_name": "Python 2",
   "language": "python",
   "name": "python2"
  },
  "language_info": {
   "codemirror_mode": {
    "name": "ipython",
    "version": 2
   },
   "file_extension": ".py",
   "mimetype": "text/x-python",
   "name": "python",
   "nbconvert_exporter": "python",
   "pygments_lexer": "ipython2",
   "version": "2.7.13"
  }
 },
 "nbformat": 4,
 "nbformat_minor": 1
}
