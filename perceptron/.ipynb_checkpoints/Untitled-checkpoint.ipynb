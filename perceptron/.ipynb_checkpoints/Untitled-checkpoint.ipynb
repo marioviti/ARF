{
 "cells": [
  {
   "cell_type": "code",
   "execution_count": 17,
   "metadata": {
    "collapsed": false
   },
   "outputs": [
    {
     "name": "stdout",
     "output_type": "stream",
     "text": [
      "[ 1.          0.98989899  0.97979798  0.96969697  0.95959596  0.94949495\n",
      "  0.93939394  0.92929293  0.91919192  0.90909091  0.8989899   0.88888889\n",
      "  0.87878788  0.86868687  0.85858586  0.84848485  0.83838384  0.82828283\n",
      "  0.81818182  0.80808081  0.7979798   0.78787879  0.77777778  0.76767677\n",
      "  0.75757576  0.74747475  0.73737374  0.72727273  0.71717172  0.70707071\n",
      "  0.6969697   0.68686869  0.67676768  0.66666667  0.65656566  0.64646465\n",
      "  0.63636364  0.62626263  0.61616162  0.60606061  0.5959596   0.58585859\n",
      "  0.57575758  0.56565657  0.55555556  0.54545455  0.53535354  0.52525253\n",
      "  0.51515152  0.50505051  0.49494949  0.48484848  0.47474747  0.46464646\n",
      "  0.45454545  0.44444444  0.43434343  0.42424242  0.41414141  0.4040404\n",
      "  0.39393939  0.38383838  0.37373737  0.36363636  0.35353535  0.34343434\n",
      "  0.33333333  0.32323232  0.31313131  0.3030303   0.29292929  0.28282828\n",
      "  0.27272727  0.26262626  0.25252525  0.24242424  0.23232323  0.22222222\n",
      "  0.21212121  0.2020202   0.19191919  0.18181818  0.17171717  0.16161616\n",
      "  0.15151515  0.14141414  0.13131313  0.12121212  0.11111111  0.1010101\n",
      "  0.09090909  0.08080808  0.07070707  0.06060606  0.05050505  0.04040404\n",
      "  0.03030303  0.02020202  0.01010101  0.        ]\n",
      "training Perceptron\n"
     ]
    },
    {
     "data": {
      "image/png": "[encoded data removed]",
      "text/plain": [
       "<matplotlib.figure.Figure at 0x7f55c4848690>"
      ]
     },
     "metadata": {},
     "output_type": "display_data"
    }
   ],
   "source": [
    "import numpy as np\n",
    "import matplotlib.pyplot as plt\n",
    "from sklearn import datasets\n",
    "\n",
    "from sklearn.model_selection import train_test_split\n",
    "from sklearn.linear_model import SGDClassifier, Perceptron\n",
    "from sklearn.linear_model import PassiveAggressiveClassifier\n",
    "from sklearn.linear_model import LogisticRegression\n",
    "\n",
    "heldout = [0.95, 0.90, 0.75, 0.50, 0.01]\n",
    "heldout = np.linspace(1,0,100)\n",
    "rounds = 20\n",
    "digits = datasets.load_digits()\n",
    "X, y = digits.data, digits.target\n",
    "\n",
    "classifiers = [\n",
    "    (\"Perceptron\", Perceptron()),\n",
    "]\n",
    "\n",
    "xx = 1. - np.array(heldout)\n",
    "\n",
    "for name, clf in classifiers:\n",
    "    print(\"training %s\" % name)\n",
    "    rng = np.random.RandomState(42)\n",
    "    yy = []\n",
    "    for i in heldout:\n",
    "        yy_ = []\n",
    "        for r in range(rounds):\n",
    "            X_train, X_test, y_train, y_test = \\\n",
    "                train_test_split(X, y, test_size=i, random_state=rng)\n",
    "            clf.fit(X_train, y_train)\n",
    "            y_pred = clf.predict(X)\n",
    "            yy_.append(1-np.mean(y_pred == y))\n",
    "        yy.append(np.mean(yy_))\n",
    "    plt.plot(xx, yy, label=name)\n",
    "\n",
    "plt.legend(loc=\"upper right\")\n",
    "plt.xlabel(\"Proportion train\")\n",
    "plt.ylabel(\"Loss\")\n",
    "plt.show()"
   ]
  }
 ],
 "metadata": {
  "kernelspec": {
   "display_name": "Python 2",
   "language": "python",
   "name": "python2"
  },
  "language_info": {
   "codemirror_mode": {
    "name": "ipython",
    "version": 2
   },
   "file_extension": ".py",
   "mimetype": "text/x-python",
   "name": "python",
   "nbconvert_exporter": "python",
   "pygments_lexer": "ipython2",
   "version": "2.7.13"
  }
 },
 "nbformat": 4,
 "nbformat_minor": 2
}
