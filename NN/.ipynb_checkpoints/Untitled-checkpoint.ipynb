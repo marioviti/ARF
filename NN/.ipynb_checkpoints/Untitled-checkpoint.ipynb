{
 "cells": [
  {
   "cell_type": "markdown",
   "metadata": {},
   "source": [
    "# Simple neural network\n",
    "\n",
    "We can use a simple NN to work out the xor problem.\n",
    "In the most simple way possible we can imagine the xor problem in its logic decomposition.\n",
    "\n",
    "$(A\\land \\neg B)\\lor (\\neg A\\land B) = (A + B)$\n",
    "\n",
    "We can build a simple perceptron with a binary activation function to create the and, the or and the not.\n",
    "\n",
    "by cabling togheter inputs and outputs you'll have a nn capable of solving the xor.\n",
    "We can also take ths shortcut $A \\lor B = \\neg(\\neg A \\land \\neg B)$ so we need less training.\n",
    "\n"
   ]
  },
  {
   "cell_type": "code",
   "execution_count": 3,
   "metadata": {
    "collapsed": false
   },
   "outputs": [],
   "source": [
    "import numpy as np\n",
    "from Perceptron import Perceptron\n",
    "\n",
    "t = 1\n",
    "f = -1\n",
    "\n",
    "andX = np.array([[f,f],[f,t],[t,f],[t,t]])\n",
    "andY = np.array([f,f,f,t])\n",
    "\n",
    "orX = np.array([[f,f],[f,t],[t,f],[t,t]])\n",
    "orY = np.array([f,t,t,t])\n",
    "\n",
    "negX = np.array([f,t])\n",
    "negY = np.array([t,f]) \n",
    "\n",
    "p_and = Perceptron()\n",
    "p_and.set_kernel('bias')\n",
    "p_and.fit(andX,andY)\n",
    "\n",
    "p_or = Perceptron()\n",
    "p_or.set_kernel('bias')\n",
    "p_or.fit(orX,orY)\n",
    "\n",
    "p_neg = Perceptron()\n",
    "p_neg.fit(negX,negY)\n"
   ]
  },
  {
   "cell_type": "code",
   "execution_count": 4,
   "metadata": {
    "collapsed": false
   },
   "outputs": [
    {
     "name": "stdout",
     "output_type": "stream",
     "text": [
      "[[ 1.]\n",
      " [-1.]]\n",
      "[[-1.]\n",
      " [-1.]\n",
      " [-1.]\n",
      " [ 1.]]\n",
      "[[-1.]\n",
      " [ 1.]\n",
      " [ 1.]\n",
      " [ 1.]]\n",
      "1.0\n",
      "1.0\n",
      "1.0\n"
     ]
    }
   ],
   "source": [
    "print p_neg.decision_function(negX)\n",
    "print p_and.decision_function(andX)\n",
    "print p_or.decision_function(andX)\n",
    "\n",
    "print p_neg.score(negX,negY)\n",
    "print p_and.score(andX,andY)\n",
    "print p_or.score(andX,orY)\n"
   ]
  },
  {
   "cell_type": "code",
   "execution_count": 5,
   "metadata": {
    "collapsed": false
   },
   "outputs": [
    {
     "name": "stdout",
     "output_type": "stream",
     "text": [
      "[[-1.]\n",
      " [ 1.]\n",
      " [ 1.]\n",
      " [-1.]]\n"
     ]
    }
   ],
   "source": [
    "# create the or\n",
    "def l_or(l_neg,l_and):\n",
    "    def fun(x):\n",
    "        a,b = x[0],x[1]\n",
    "        not_a = l_neg(np.array([a]))\n",
    "        not_b = l_neg(np.array([b]))\n",
    "        x1 = np.array([not_a[0][0],not_b[0][0]])\n",
    "        not_a_and_not_b = l_and(np.array([x1]))\n",
    "        return l_neg(not_a_and_not_b)\n",
    "    def fun_map(X):\n",
    "        n = len(X)\n",
    "        return np.array(map(fun,X)).reshape(n,1)\n",
    "    return fun_map\n",
    "\n",
    "#$(A and neg B)or (neg A and B) = (A + B)$\n",
    "def l_xor(l_or,l_neg,l_and):\n",
    "    def fun(x):\n",
    "        a,b = x[0],x[1]\n",
    "        not_a = l_neg(np.array([a]))\n",
    "        not_b = l_neg(np.array([b]))\n",
    "        x1 = np.array([a,not_b[0][0]])\n",
    "        x2 = np.array([not_a[0][0],b])\n",
    "        a_and_not_b = l_and(np.array([x1]))\n",
    "        not_a_and_b = l_and(np.array([x2]))\n",
    "        x3 = np.array([not_a_and_b[0][0],a_and_not_b[0][0]])\n",
    "        return l_or(np.array([x3]))\n",
    "    def fun_map(X):\n",
    "        n = len(X)\n",
    "        return np.array(map(fun,X)).reshape(n,1)\n",
    "    return fun_map\n",
    "\n",
    "p_xor = l_xor(p_or.decision_function,p_neg.decision_function,p_and.decision_function)\n",
    "y= p_xor(andX)\n",
    "print y\n",
    "      "
   ]
  },
  {
   "cell_type": "code",
   "execution_count": 44,
   "metadata": {
    "collapsed": false
   },
   "outputs": [
    {
     "data": {
      "image/png": "[encoded data removed]",
      "text/plain": [
       "<matplotlib.figure.Figure at 0x7f8c2b2a5390>"
      ]
     },
     "metadata": {},
     "output_type": "display_data"
    },
    {
     "data": {
      "image/png": "[encoded data removed]",
      "text/plain": [
       "<matplotlib.figure.Figure at 0x7f8c2b1b4710>"
      ]
     },
     "metadata": {},
     "output_type": "display_data"
    }
   ],
   "source": [
    "import numpy as np\n",
    "import matplotlib.pyplot as plt\n",
    "import matplotlib.image as mpimg\n",
    "\n",
    "img=mpimg.imread('xor.png')\n",
    "p_xor = l_xor(p_or.decision_function,p_neg.decision_function,p_and.decision_function)\n",
    "y= p_xor(andX)\n",
    "\n",
    "N = len(y)\n",
    "y = y.reshape(N)\n",
    "plt.scatter(andX[y==1][:,0],andX[y==1][:,1])\n",
    "plt.scatter(andX[y==-1][:,0],andX[y==-1][:,1])\n",
    "plt.show()\n",
    "plt.figure(figsize=(10,10))\n",
    "imgplot = plt.imshow(img)\n",
    "plt.show()\n"
   ]
  },
  {
   "cell_type": "code",
   "execution_count": null,
   "metadata": {
    "collapsed": true
   },
   "outputs": [],
   "source": []
  }
 ],
 "metadata": {
  "kernelspec": {
   "display_name": "Python 2",
   "language": "python",
   "name": "python2"
  },
  "language_info": {
   "codemirror_mode": {
    "name": "ipython",
    "version": 2
   },
   "file_extension": ".py",
   "mimetype": "text/x-python",
   "name": "python",
   "nbconvert_exporter": "python",
   "pygments_lexer": "ipython2",
   "version": "2.7.13"
  }
 },
 "nbformat": 4,
 "nbformat_minor": 2
}
